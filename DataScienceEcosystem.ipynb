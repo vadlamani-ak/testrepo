{
 "cells": [
  {
   "cell_type": "markdown",
   "id": "9d111ab9-3873-4edb-abab-b253c97f5f3c",
   "metadata": {},
   "source": [
    "# Data Science Tools and Ecosystem"
   ]
  },
  {
   "cell_type": "markdown",
   "id": "9d417ce0-8411-4c22-b7bf-4a6b59cbe513",
   "metadata": {},
   "source": [
    "**Objectives:**\n",
    "* List the popular languages of Data Science\n",
    "* List the commonly used libraries used by Data Scientists\n",
    "* List a few of the Data Science Tools\n",
    "* Perform simple mathematical operations such as addition, multiplication, and division"
   ]
  },
  {
   "cell_type": "markdown",
   "id": "a547091d-66c2-44f2-b863-ac6d1d68b70b",
   "metadata": {},
   "source": [
    "In this notebook, Data Science Tools and Ecosystem are summarized."
   ]
  },
  {
   "cell_type": "markdown",
   "id": "662b31ff-8ecc-4037-9293-28f0a0dc12fc",
   "metadata": {},
   "source": [
    "Some of the popular languages that Data Scientists use are:\n",
    "1. Python\n",
    "2. R\n",
    "3. Scala\n",
    "4. SQL\n",
    "5. Java"
   ]
  },
  {
   "cell_type": "markdown",
   "id": "7c7f25c5-5e4f-4666-ba52-bcb4ca0661ad",
   "metadata": {},
   "source": [
    "Some of the commonly used libraries used by Data Scientists include:\n",
    "1. Pandas\n",
    "2. SciPy\n",
    "3. NumPy\n",
    "4. Matplotlib\n",
    "5. PyTorch"
   ]
  },
  {
   "cell_type": "markdown",
   "id": "2fc6aa49-46d2-4ec0-b179-16bedb3a9217",
   "metadata": {},
   "source": [
    "\n",
    "|Data Science Tools  |\n",
    "|------------------- |\n",
    "| Tensor Flow        |\n",
    "| Apache Spark       |\n",
    "| Tableau            |\n"
   ]
  },
  {
   "cell_type": "markdown",
   "id": "e659fa1c-1564-49d7-9ad3-6d99a43ccca4",
   "metadata": {},
   "source": [
    "### Below are a few examples of evaluating arithmetic expressions in Python"
   ]
  },
  {
   "cell_type": "code",
   "execution_count": 30,
   "id": "9c371a2c-6bab-426d-a64b-e0dcba96c489",
   "metadata": {},
   "outputs": [
    {
     "data": {
      "text/plain": [
       "17"
      ]
     },
     "execution_count": 30,
     "metadata": {},
     "output_type": "execute_result"
    }
   ],
   "source": [
    "# This a simple arithmetic expression to mutiply then add integers\n",
    "(3*4)+5"
   ]
  },
  {
   "cell_type": "code",
   "execution_count": 31,
   "id": "0a6f1470-a113-475b-ad03-d5ca9b90fd13",
   "metadata": {},
   "outputs": [
    {
     "data": {
      "text/plain": [
       "3.3333333333333335"
      ]
     },
     "execution_count": 31,
     "metadata": {},
     "output_type": "execute_result"
    }
   ],
   "source": [
    "# This will convert 200 minutes to hours by dividing by 60\n",
    "200 / 60 "
   ]
  },
  {
   "cell_type": "markdown",
   "id": "f29f389b-78eb-48f4-925e-73762fc2b235",
   "metadata": {},
   "source": [
    "## Author\n",
    "Anand Kumar Vadlamani"
   ]
  }
 ],
 "metadata": {
  "kernelspec": {
   "display_name": "Python 3 (ipykernel)",
   "language": "python",
   "name": "python3"
  },
  "language_info": {
   "codemirror_mode": {
    "name": "ipython",
    "version": 3
   },
   "file_extension": ".py",
   "mimetype": "text/x-python",
   "name": "python",
   "nbconvert_exporter": "python",
   "pygments_lexer": "ipython3",
   "version": "3.12.4"
  }
 },
 "nbformat": 4,
 "nbformat_minor": 5
}
